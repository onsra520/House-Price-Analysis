{
 "cells": [
  {
   "cell_type": "code",
   "execution_count": 1,
   "metadata": {},
   "outputs": [],
   "source": [
    "import os, requests, time\n",
    "import pandas as pd\n",
    "import pyodbc\n",
    "from bs4 import BeautifulSoup\n",
    "from selenium import webdriver\n",
    "from selenium.webdriver.common.by import By\n",
    "from selenium.webdriver.support.ui import WebDriverWait\n",
    "from selenium.webdriver.support import expected_conditions as EC"
   ]
  },
  {
   "cell_type": "code",
   "execution_count": 2,
   "metadata": {},
   "outputs": [],
   "source": [
    "os.makedirs(os.path.join(\"Real Property Dataset\"),exist_ok = True)"
   ]
  },
  {
   "cell_type": "code",
   "execution_count": 3,
   "metadata": {},
   "outputs": [],
   "source": [
    "def Scrape_Data(driver): \n",
    "    House_Information = []\n",
    "    Page = driver.page_source\n",
    "    Source = BeautifulSoup(Page, \"lxml\")\n",
    "\n",
    "    Titles = Source.find_all(\"span\", class_=\"pr-title js__card-title\")\n",
    "    Areas = Source.find_all(\"span\", class_=\"re__card-config-area js__card-config-item\")\n",
    "    Bedrooms = Source.find_all(\"span\", class_=\"re__card-config-bedroom js__card-config-item\")\n",
    "    Bathrooms = Source.find_all(\"span\", class_=\"re__card-config-toilet js__card-config-item\")\n",
    "    Location = Source.find_all(\"div\", class_=\"re__card-location\")\n",
    "    Prices = Source.find_all(\"span\", class_=\"re__card-config-price js__card-config-item\")\n",
    "    \n",
    "    for title, area, bedroom, bathroom, price, local in zip(Titles, Areas, Bedrooms, Bathrooms, Prices, Location):\n",
    "        House_Information.append({\n",
    "            'House Title': title.text.strip(),\n",
    "            'Area': area.text.strip(),\n",
    "            'Bedrooms': bedroom.find('span').text.strip(),\n",
    "            'Bathrooms': bathroom.find('span').text.strip(),\n",
    "            'Location': local.text.strip(),\n",
    "            'Price': price.text.strip()\n",
    "        })\n",
    "    \n",
    "    return House_Information"
   ]
  },
  {
   "cell_type": "code",
   "execution_count": 4,
   "metadata": {},
   "outputs": [],
   "source": [
    "\n",
    "def Browser_Automation():\n",
    "    driver = webdriver.Edge()\n",
    "    driver.set_window_size(1280, 720)\n",
    "    URL = \"https://batdongsan.com.vn/ban-nha-rieng-tp-hcm?cIds=325,163\"\n",
    "    driver.get(URL)\n",
    "    \n",
    "    House_List = []\n",
    "    \n",
    "    def close_popups():\n",
    "        while True:\n",
    "            try:\n",
    "                close_button = WebDriverWait(driver, 1).until(EC.element_to_be_clickable((By.CSS_SELECTOR, \"span.close\")))\n",
    "                close_button.click()\n",
    "                time.sleep(0.5)\n",
    "            except Exception:\n",
    "                break\n",
    "            \n",
    "    while True:\n",
    "        try:\n",
    "            close_popups() \n",
    "            House_Data = Scrape_Data(driver)\n",
    "            House_List.extend(House_Data)\n",
    "            Next_Page = WebDriverWait(driver, 2).until(EC.element_to_be_clickable((By.CSS_SELECTOR, \"a.re__pagination-icon i.re__icon-chevron-right--sm\")))\n",
    "            Next_Page.click()\n",
    "            time.sleep(1)                                   \n",
    "        except Exception:\n",
    "            break\n",
    "            \n",
    "    driver.quit()\n",
    "    return House_List\n",
    "\n",
    "Scrape_House_List = pd.DataFrame(Browser_Automation())\n",
    "Scrape_House_List.to_csv(os.path.join(\"Real Property Dataset\", \"Real Property Information.csv\"), header=True, index=False)"
   ]
  },
  {
   "cell_type": "code",
   "execution_count": 5,
   "metadata": {},
   "outputs": [],
   "source": [
    "def Data_Cleaning():\n",
    "    House_List = pd.read_csv(os.path.join(\"Real Property Dataset\", \"Real Property Information.csv\"))\n",
    "\n",
    "    House_List[\"House Title\"] = House_List[\"House Title\"].str.replace('\"', \"\")\n",
    "    House_List[\"Area\"] = House_List[\"Area\"].str.replace(\"m²\", \"\")\n",
    "    House_List[\"Location\"] = House_List[\"Location\"].str.replace(\"·\\n\", \"\")\n",
    "    House_List[\"Price\"] = House_List[\"Price\"].str.replace(\"tỷ\", \"\").str.replace(\",\", \".\")\n",
    "\n",
    "    House_List.to_csv(os.path.join(\"Real Property Dataset\", \"Real Property Information.csv\"), header=True, index=False)\n",
    "\n",
    "Data_Cleaning()"
   ]
  },
  {
   "cell_type": "code",
   "execution_count": null,
   "metadata": {},
   "outputs": [],
   "source": [
    "House_List.close()"
   ]
  },
  {
   "cell_type": "code",
   "execution_count": 5,
   "metadata": {},
   "outputs": [
    {
     "ename": "ParserError",
     "evalue": "Error tokenizing data. C error: Expected 7 fields in line 4, saw 10\n",
     "output_type": "error",
     "traceback": [
      "\u001b[1;31m---------------------------------------------------------------------------\u001b[0m",
      "\u001b[1;31mParserError\u001b[0m                               Traceback (most recent call last)",
      "Cell \u001b[1;32mIn[5], line 1\u001b[0m\n\u001b[1;32m----> 1\u001b[0m House_List \u001b[38;5;241m=\u001b[39m \u001b[43mpd\u001b[49m\u001b[38;5;241;43m.\u001b[39;49m\u001b[43mread_csv\u001b[49m\u001b[43m(\u001b[49m\u001b[43mos\u001b[49m\u001b[38;5;241;43m.\u001b[39;49m\u001b[43mpath\u001b[49m\u001b[38;5;241;43m.\u001b[39;49m\u001b[43mjoin\u001b[49m\u001b[43m(\u001b[49m\u001b[38;5;124;43m\"\u001b[39;49m\u001b[38;5;124;43mReal Property Dataset\u001b[39;49m\u001b[38;5;124;43m\"\u001b[39;49m\u001b[43m,\u001b[49m\u001b[43m \u001b[49m\u001b[38;5;124;43m\"\u001b[39;49m\u001b[38;5;124;43mReal Property Information.csv\u001b[39;49m\u001b[38;5;124;43m\"\u001b[39;49m\u001b[43m)\u001b[49m\u001b[43m)\u001b[49m\n\u001b[0;32m      3\u001b[0m Connection \u001b[38;5;241m=\u001b[39m pyodbc\u001b[38;5;241m.\u001b[39mconnect(\u001b[38;5;124m\"\u001b[39m\u001b[38;5;124mDriver=\u001b[39m\u001b[38;5;124m{\u001b[39m\u001b[38;5;124mSQL Server};\u001b[39m\u001b[38;5;124m\"\u001b[39m \n\u001b[0;32m      4\u001b[0m                             \u001b[38;5;124m\"\u001b[39m\u001b[38;5;124mServer=QUYSEGGS;\u001b[39m\u001b[38;5;124m\"\u001b[39m \n\u001b[0;32m      5\u001b[0m                             \u001b[38;5;124m\"\u001b[39m\u001b[38;5;124mDatabase=tempdb;\u001b[39m\u001b[38;5;124m\"\u001b[39m\n\u001b[0;32m      6\u001b[0m                             \u001b[38;5;124m\"\u001b[39m\u001b[38;5;124mTrusted_Connection=yes;\u001b[39m\u001b[38;5;124m\"\u001b[39m)\n\u001b[0;32m      7\u001b[0m Column_Name \u001b[38;5;241m=\u001b[39m House_List\u001b[38;5;241m.\u001b[39mcolumns\u001b[38;5;241m.\u001b[39mtolist()\n",
      "File \u001b[1;32mc:\\Users\\QuySech\\anaconda3\\envs\\python3\\lib\\site-packages\\pandas\\io\\parsers\\readers.py:1026\u001b[0m, in \u001b[0;36mread_csv\u001b[1;34m(filepath_or_buffer, sep, delimiter, header, names, index_col, usecols, dtype, engine, converters, true_values, false_values, skipinitialspace, skiprows, skipfooter, nrows, na_values, keep_default_na, na_filter, verbose, skip_blank_lines, parse_dates, infer_datetime_format, keep_date_col, date_parser, date_format, dayfirst, cache_dates, iterator, chunksize, compression, thousands, decimal, lineterminator, quotechar, quoting, doublequote, escapechar, comment, encoding, encoding_errors, dialect, on_bad_lines, delim_whitespace, low_memory, memory_map, float_precision, storage_options, dtype_backend)\u001b[0m\n\u001b[0;32m   1013\u001b[0m kwds_defaults \u001b[38;5;241m=\u001b[39m _refine_defaults_read(\n\u001b[0;32m   1014\u001b[0m     dialect,\n\u001b[0;32m   1015\u001b[0m     delimiter,\n\u001b[1;32m   (...)\u001b[0m\n\u001b[0;32m   1022\u001b[0m     dtype_backend\u001b[38;5;241m=\u001b[39mdtype_backend,\n\u001b[0;32m   1023\u001b[0m )\n\u001b[0;32m   1024\u001b[0m kwds\u001b[38;5;241m.\u001b[39mupdate(kwds_defaults)\n\u001b[1;32m-> 1026\u001b[0m \u001b[38;5;28;01mreturn\u001b[39;00m \u001b[43m_read\u001b[49m\u001b[43m(\u001b[49m\u001b[43mfilepath_or_buffer\u001b[49m\u001b[43m,\u001b[49m\u001b[43m \u001b[49m\u001b[43mkwds\u001b[49m\u001b[43m)\u001b[49m\n",
      "File \u001b[1;32mc:\\Users\\QuySech\\anaconda3\\envs\\python3\\lib\\site-packages\\pandas\\io\\parsers\\readers.py:626\u001b[0m, in \u001b[0;36m_read\u001b[1;34m(filepath_or_buffer, kwds)\u001b[0m\n\u001b[0;32m    623\u001b[0m     \u001b[38;5;28;01mreturn\u001b[39;00m parser\n\u001b[0;32m    625\u001b[0m \u001b[38;5;28;01mwith\u001b[39;00m parser:\n\u001b[1;32m--> 626\u001b[0m     \u001b[38;5;28;01mreturn\u001b[39;00m \u001b[43mparser\u001b[49m\u001b[38;5;241;43m.\u001b[39;49m\u001b[43mread\u001b[49m\u001b[43m(\u001b[49m\u001b[43mnrows\u001b[49m\u001b[43m)\u001b[49m\n",
      "File \u001b[1;32mc:\\Users\\QuySech\\anaconda3\\envs\\python3\\lib\\site-packages\\pandas\\io\\parsers\\readers.py:1923\u001b[0m, in \u001b[0;36mTextFileReader.read\u001b[1;34m(self, nrows)\u001b[0m\n\u001b[0;32m   1916\u001b[0m nrows \u001b[38;5;241m=\u001b[39m validate_integer(\u001b[38;5;124m\"\u001b[39m\u001b[38;5;124mnrows\u001b[39m\u001b[38;5;124m\"\u001b[39m, nrows)\n\u001b[0;32m   1917\u001b[0m \u001b[38;5;28;01mtry\u001b[39;00m:\n\u001b[0;32m   1918\u001b[0m     \u001b[38;5;66;03m# error: \"ParserBase\" has no attribute \"read\"\u001b[39;00m\n\u001b[0;32m   1919\u001b[0m     (\n\u001b[0;32m   1920\u001b[0m         index,\n\u001b[0;32m   1921\u001b[0m         columns,\n\u001b[0;32m   1922\u001b[0m         col_dict,\n\u001b[1;32m-> 1923\u001b[0m     ) \u001b[38;5;241m=\u001b[39m \u001b[38;5;28;43mself\u001b[39;49m\u001b[38;5;241;43m.\u001b[39;49m\u001b[43m_engine\u001b[49m\u001b[38;5;241;43m.\u001b[39;49m\u001b[43mread\u001b[49m\u001b[43m(\u001b[49m\u001b[43m  \u001b[49m\u001b[38;5;66;43;03m# type: ignore[attr-defined]\u001b[39;49;00m\n\u001b[0;32m   1924\u001b[0m \u001b[43m        \u001b[49m\u001b[43mnrows\u001b[49m\n\u001b[0;32m   1925\u001b[0m \u001b[43m    \u001b[49m\u001b[43m)\u001b[49m\n\u001b[0;32m   1926\u001b[0m \u001b[38;5;28;01mexcept\u001b[39;00m \u001b[38;5;167;01mException\u001b[39;00m:\n\u001b[0;32m   1927\u001b[0m     \u001b[38;5;28mself\u001b[39m\u001b[38;5;241m.\u001b[39mclose()\n",
      "File \u001b[1;32mc:\\Users\\QuySech\\anaconda3\\envs\\python3\\lib\\site-packages\\pandas\\io\\parsers\\c_parser_wrapper.py:234\u001b[0m, in \u001b[0;36mCParserWrapper.read\u001b[1;34m(self, nrows)\u001b[0m\n\u001b[0;32m    232\u001b[0m \u001b[38;5;28;01mtry\u001b[39;00m:\n\u001b[0;32m    233\u001b[0m     \u001b[38;5;28;01mif\u001b[39;00m \u001b[38;5;28mself\u001b[39m\u001b[38;5;241m.\u001b[39mlow_memory:\n\u001b[1;32m--> 234\u001b[0m         chunks \u001b[38;5;241m=\u001b[39m \u001b[38;5;28;43mself\u001b[39;49m\u001b[38;5;241;43m.\u001b[39;49m\u001b[43m_reader\u001b[49m\u001b[38;5;241;43m.\u001b[39;49m\u001b[43mread_low_memory\u001b[49m\u001b[43m(\u001b[49m\u001b[43mnrows\u001b[49m\u001b[43m)\u001b[49m\n\u001b[0;32m    235\u001b[0m         \u001b[38;5;66;03m# destructive to chunks\u001b[39;00m\n\u001b[0;32m    236\u001b[0m         data \u001b[38;5;241m=\u001b[39m _concatenate_chunks(chunks)\n",
      "File \u001b[1;32mparsers.pyx:838\u001b[0m, in \u001b[0;36mpandas._libs.parsers.TextReader.read_low_memory\u001b[1;34m()\u001b[0m\n",
      "File \u001b[1;32mparsers.pyx:905\u001b[0m, in \u001b[0;36mpandas._libs.parsers.TextReader._read_rows\u001b[1;34m()\u001b[0m\n",
      "File \u001b[1;32mparsers.pyx:874\u001b[0m, in \u001b[0;36mpandas._libs.parsers.TextReader._tokenize_rows\u001b[1;34m()\u001b[0m\n",
      "File \u001b[1;32mparsers.pyx:891\u001b[0m, in \u001b[0;36mpandas._libs.parsers.TextReader._check_tokenize_status\u001b[1;34m()\u001b[0m\n",
      "File \u001b[1;32mparsers.pyx:2061\u001b[0m, in \u001b[0;36mpandas._libs.parsers.raise_parser_error\u001b[1;34m()\u001b[0m\n",
      "\u001b[1;31mParserError\u001b[0m: Error tokenizing data. C error: Expected 7 fields in line 4, saw 10\n"
     ]
    }
   ],
   "source": [
    "House_List = pd.read_csv(os.path.join(\"Real Property Dataset\", \"Real Property Information.csv\"))\n",
    "\n",
    "Connection = pyodbc.connect(\"Driver={SQL Server};\" \n",
    "                            \"Server=QUYSEGGS;\" \n",
    "                            \"Database=tempdb;\"\n",
    "                            \"Trusted_Connection=yes;\")\n",
    "Column_Name = House_List.columns.tolist()\n",
    "\n",
    "Cursor = Connection.cursor()\n",
    "\n",
    "Table_Name = \"Real Property Information\"\n",
    "\n",
    "Create_Table = f\"create table {Table_Name} (\"\n",
    "\n",
    "for Column in Column_Name:\n",
    "    if House_List[Column].dtype == 'int64':\n",
    "        Create_Table += f\"{Column} INT, \"\n",
    "    elif House_List[Column].dtype == 'float64':\n",
    "        Create_Table += f\"{Column} FLOAT, \"\n",
    "    else:\n",
    "        Create_Table += f\"{Column} NVARCHAR(255), \"\n",
    "        \n",
    "# Loại bỏ dấu phẩy cuối cùng và đóng ngoặc\n",
    "Create_Table = Create_Table.rstrip(\", \") + \")\"\n",
    "\n",
    "Cursor.execute(Create_Table)\n",
    "Connection.commit()\n",
    "\n",
    "Insert_Cmd = f\"INSERT INTO {Table_Name} ({', '.join(Column_Name)}) VALUES ({', '.join(['?' for _ in Column_Name])})\"\n",
    "# Lặp qua từng hàng trong DataFrame và chèn dữ liệu vào bảng\n",
    "for index, row in House_List.iterrows():\n",
    "    Cursor.execute(Insert_Cmd, tuple(row))\n",
    "\n",
    "Connection.commit()\n",
    "\n",
    "Cursor.close()\n",
    "Connection.close()"
   ]
  },
  {
   "cell_type": "code",
   "execution_count": null,
   "metadata": {},
   "outputs": [],
   "source": [
    "\n",
    "\n"
   ]
  }
 ],
 "metadata": {
  "kernelspec": {
   "display_name": "python3",
   "language": "python",
   "name": "python3"
  },
  "language_info": {
   "codemirror_mode": {
    "name": "ipython",
    "version": 3
   },
   "file_extension": ".py",
   "mimetype": "text/x-python",
   "name": "python",
   "nbconvert_exporter": "python",
   "pygments_lexer": "ipython3",
   "version": "3.10.14"
  }
 },
 "nbformat": 4,
 "nbformat_minor": 2
}
